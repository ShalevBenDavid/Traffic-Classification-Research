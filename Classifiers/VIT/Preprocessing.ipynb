{
 "cells": [
  {
   "cell_type": "code",
   "execution_count": 7,
   "metadata": {},
   "outputs": [],
   "source": [
    "import os\n",
    "from PIL import Image"
   ]
  },
  {
   "cell_type": "code",
   "execution_count": 6,
   "metadata": {},
   "outputs": [],
   "source": [
    "# open each folder, go over each file, resize it to 224x224, save it as a jpg and delete the original\n",
    "for folder in os.listdir('data'):\n",
    "    for file in os.listdir('data/' + folder):\n",
    "        if file.endswith('.png'):\n",
    "            img = Image.open('data/' + folder + '/' + file)\n",
    "            img = img.resize((224, 224))\n",
    "            img.save('data/' + folder + '/' + file[:-4] + '.jpg')\n",
    "            os.remove('data/' + folder + '/' + file)\n",
    "\n"
   ]
  },
  {
   "cell_type": "code",
   "execution_count": 8,
   "metadata": {},
   "outputs": [],
   "source": [
    "# copy 70% of the images from each folder (other than train and test) to the train folder and 30% to the test folder\n",
    "for folder in os.listdir('data'):\n",
    "    if folder != 'train' and folder != 'test' and folder != '.DS_Store':\n",
    "        for i, file in enumerate(os.listdir('data/' + folder)):\n",
    "            if folder == \"Google_PlayMusic\":\n",
    "                label = \"PlayMusic\"\n",
    "            elif folder == \"GoogleHangout_Chat\":\n",
    "                label = \"HangoutChat\"\n",
    "            elif folder == \"GoogleHangout_VoIP\":\n",
    "                label = \"HangoutVoIP\"\n",
    "            elif folder == \"YouTube\":\n",
    "                label = \"YouTube\"\n",
    "            else:\n",
    "                print(\"ERROR\")\n",
    "            \n",
    "\n",
    "            if i < len(os.listdir('data/' + folder)) * 0.7:\n",
    "                # copy to train folder\n",
    "                os.rename('data/' + folder + '/' + file, 'data/train/' +label+\"_\"+file)\n",
    "                \n",
    "            else:\n",
    "                os.rename('data/' + folder + '/' + file, 'data/test/' +label+\"_\"+file)"
   ]
  }
 ],
 "metadata": {
  "kernelspec": {
   "display_name": "base",
   "language": "python",
   "name": "python3"
  },
  "language_info": {
   "codemirror_mode": {
    "name": "ipython",
    "version": 3
   },
   "file_extension": ".py",
   "mimetype": "text/x-python",
   "name": "python",
   "nbconvert_exporter": "python",
   "pygments_lexer": "ipython3",
   "version": "3.10.13"
  }
 },
 "nbformat": 4,
 "nbformat_minor": 2
}
