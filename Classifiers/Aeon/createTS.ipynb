{
 "cells": [
  {
   "cell_type": "code",
   "execution_count": 4,
   "metadata": {},
   "outputs": [],
   "source": [
    "import pandas as pd\n",
    "import numpy as np\n",
    "import csv\n",
    "import os\n",
    "\n",
    "# ignore warnings\n",
    "import warnings\n",
    "warnings.filterwarnings('ignore')"
   ]
  },
  {
   "cell_type": "code",
   "execution_count": 5,
   "metadata": {},
   "outputs": [
    {
     "name": "stdout",
     "output_type": "stream",
     "text": [
      "      Timestamp  Time Difference  Packet Size  Direction\n",
      "0  1.522650e+09         0.080841         1294          1\n",
      "1  1.522650e+09         0.081183         1294          1\n",
      "2  1.522650e+09         0.081186          198          1\n",
      "3  1.522650e+09         0.081203           74          0\n",
      "4  1.522650e+09         0.348584          316          0\n"
     ]
    }
   ],
   "source": [
    "folder_path = \"../../Datasets/QUIC\"\n",
    "all_sessions = []\n",
    "labels = []\n",
    "## Iterating through all the folders and files in the given path.\n",
    "## Each folder represents a label.\n",
    "## Each file represents a session.\n",
    "## Each session is converted to a Pandas DataFrame.\n",
    "for label in os.listdir(folder_path):\n",
    "    label_folder_path = os.path.join(folder_path, label)\n",
    "    if os.path.isdir(label_folder_path):\n",
    "        for filename in os.listdir(label_folder_path):\n",
    "            file_path = os.path.join(label_folder_path, filename)\n",
    "            # Converting each session to Panda's DataFrame and restricting the number of rows. \n",
    "            session_df = pd.read_csv(file_path, sep=\"\\t\", header=None, skiprows=4, nrows=150)\n",
    "            # Giving names to the columns (features).\n",
    "            session_df.columns = ['Timestamp', 'Time Difference', 'Packet Size', 'Direction']\n",
    "            # Adding to the collection.\n",
    "            if not session_df.empty:\n",
    "                all_sessions.append(session_df)\n",
    "                labels.append(label)\n",
    "# Merge all DataFrames to one DataFrame.\n",
    "all_data = pd.concat(all_sessions, ignore_index=True)\n",
    "\n",
    "print(session_df.head())"
   ]
  },
  {
   "cell_type": "code",
   "execution_count": 6,
   "metadata": {},
   "outputs": [],
   "source": [
    "#2d array of traffic\n",
    "trafficArr = []\n",
    "for session in all_sessions:\n",
    "    # if direction is 1, multiply packet size by -1\n",
    "    session.loc[session['Direction'] == 1, 'Packet Size'] *= -1\n",
    "    # remove Timestamp and Direction columns\n",
    "    session.drop(['Timestamp', 'Direction'], axis=1, inplace=True)\n",
    "    traffic = []\n",
    "    # create list of values between 0 and 5 with step 0.1\n",
    "    values = np.arange(0, 5, 0.1)\n",
    "    for timing in values:\n",
    "        sum = 0\n",
    "        for index, row in session.iterrows():   \n",
    "            if row['Time Difference'] < timing+0.5 and row['Time Difference'] > timing:\n",
    "                sum += row['Packet Size']\n",
    "            # else:\n",
    "            #     break\n",
    "        traffic.append(sum)\n",
    "    # convert traffic to numpy array\n",
    "    traffic = np.array(traffic)\n",
    "    # add traffic to trafficArr\n",
    "    trafficArr.append(traffic)\n",
    "type(trafficArr)\n",
    "# convert trafficArr to 2d-numpy array\n",
    "trafficArr = np.array(trafficArr)"
   ]
  },
  {
   "cell_type": "code",
   "execution_count": 7,
   "metadata": {},
   "outputs": [],
   "source": [
    "# convert labels to numpy array\n",
    "labels = np.array(labels)\n",
    "\n",
    "# train test split\n",
    "from sklearn.model_selection import train_test_split\n",
    "X_train, X_test, y_train, y_test = train_test_split(trafficArr, labels, test_size=0.2, random_state=42,stratify=labels)\n",
    "\n",
    "from sklearn.metrics import classification_report"
   ]
  },
  {
   "cell_type": "code",
   "execution_count": 8,
   "metadata": {},
   "outputs": [
    {
     "name": "stdout",
     "output_type": "stream",
     "text": [
      "Accuracy: 0.9549689440993789\n",
      "               precision    recall  f1-score   support\n",
      "\n",
      "   Google Doc       0.98      0.96      0.97       244\n",
      " Google Drive       0.95      0.95      0.95       327\n",
      " Google Music       0.92      0.90      0.91       118\n",
      "Google Search       0.99      0.99      0.99       383\n",
      "      Youtube       0.89      0.93      0.91       216\n",
      "\n",
      "     accuracy                           0.95      1288\n",
      "    macro avg       0.95      0.94      0.95      1288\n",
      " weighted avg       0.96      0.95      0.96      1288\n",
      "\n"
     ]
    }
   ],
   "source": [
    "from sklearn.ensemble import RandomForestClassifier\n",
    "from sklearn.metrics import accuracy_score\n",
    "\n",
    "rand_forest = RandomForestClassifier(n_estimators=100)\n",
    "rand_forest.fit(X_train, y_train)\n",
    "y_pred = rand_forest.predict(X_test)\n",
    "\n",
    "print(\"Accuracy:\",accuracy_score(y_test, y_pred))\n",
    "print(classification_report(y_test, y_pred))"
   ]
  },
  {
   "cell_type": "code",
   "execution_count": 9,
   "metadata": {},
   "outputs": [
    {
     "name": "stderr",
     "output_type": "stream",
     "text": [
      "OMP: Info #276: omp_set_nested routine deprecated, please use omp_set_max_active_levels instead.\n"
     ]
    },
    {
     "name": "stdout",
     "output_type": "stream",
     "text": [
      "Accuracy: 0.906055900621118\n",
      "               precision    recall  f1-score   support\n",
      "\n",
      "   Google Doc       0.99      0.98      0.98       244\n",
      " Google Drive       0.96      0.87      0.91       327\n",
      " Google Music       0.78      0.74      0.76       118\n",
      "Google Search       0.98      0.96      0.97       383\n",
      "      Youtube       0.72      0.88      0.79       216\n",
      "\n",
      "     accuracy                           0.91      1288\n",
      "    macro avg       0.89      0.88      0.88      1288\n",
      " weighted avg       0.91      0.91      0.91      1288\n",
      "\n"
     ]
    }
   ],
   "source": [
    "from aeon.classification.convolution_based import RocketClassifier\n",
    "\n",
    "rocket = RocketClassifier(num_kernels=2000)\n",
    "rocket.fit(X_train, y_train)\n",
    "y_pred = rocket.predict(X_test)\n",
    "\n",
    "print(\"Accuracy:\",accuracy_score(y_test, y_pred))\n",
    "print(classification_report(y_test, y_pred))"
   ]
  },
  {
   "cell_type": "code",
   "execution_count": 10,
   "metadata": {},
   "outputs": [
    {
     "name": "stdout",
     "output_type": "stream",
     "text": [
      "Accuracy: 0.9448757763975155\n",
      "               precision    recall  f1-score   support\n",
      "\n",
      "   Google Doc       0.99      0.95      0.97       244\n",
      " Google Drive       0.94      0.94      0.94       327\n",
      " Google Music       0.87      0.87      0.87       118\n",
      "Google Search       0.99      0.98      0.99       383\n",
      "      Youtube       0.86      0.91      0.89       216\n",
      "\n",
      "     accuracy                           0.94      1288\n",
      "    macro avg       0.93      0.93      0.93      1288\n",
      " weighted avg       0.95      0.94      0.95      1288\n",
      "\n"
     ]
    }
   ],
   "source": [
    "from aeon.classification.hybrid import HIVECOTEV2\n",
    "\n",
    "hc2 = HIVECOTEV2(time_limit_in_minutes=0.2)\n",
    "hc2.fit(X_train, y_train)\n",
    "y_pred = hc2.predict(X_test)\n",
    "\n",
    "print(\"Accuracy:\",accuracy_score(y_test, y_pred))\n",
    "print(classification_report(y_test, y_pred))"
   ]
  }
 ],
 "metadata": {
  "kernelspec": {
   "display_name": "aeon-env",
   "language": "python",
   "name": "python3"
  },
  "language_info": {
   "codemirror_mode": {
    "name": "ipython",
    "version": 3
   },
   "file_extension": ".py",
   "mimetype": "text/x-python",
   "name": "python",
   "nbconvert_exporter": "python",
   "pygments_lexer": "ipython3",
   "version": "3.11.6"
  }
 },
 "nbformat": 4,
 "nbformat_minor": 2
}
