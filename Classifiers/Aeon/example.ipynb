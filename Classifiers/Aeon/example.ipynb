{
 "cells": [
  {
   "cell_type": "code",
   "execution_count": null,
   "metadata": {},
   "outputs": [],
   "source": [
    "# Plotting and data loading imports used in this notebook\n",
    "import warnings\n",
    "\n",
    "import matplotlib.pyplot as plt\n",
    "\n",
    "from aeon.datasets import load_arrow_head, load_basic_motions\n",
    "\n",
    "warnings.filterwarnings(\"ignore\")\n",
    "\n",
    "arrow, arrow_labels = load_arrow_head(split=\"train\")\n",
    "motions, motions_labels = load_basic_motions(split=\"train\")\n",
    "print(f\"ArrowHead series of type {type(arrow)} and shape {arrow.shape}\")\n",
    "print(f\"Motions type {type(motions)} of shape {motions_labels.shape}\")"
   ]
  },
  {
   "cell_type": "code",
   "execution_count": null,
   "metadata": {},
   "outputs": [],
   "source": [
    "plt.title(f\"First instance in ArrowHead data (class {arrow_labels[0]})\")\n",
    "plt.plot(arrow[0, 0])"
   ]
  }
 ],
 "metadata": {
  "language_info": {
   "name": "python"
  }
 },
 "nbformat": 4,
 "nbformat_minor": 2
}
